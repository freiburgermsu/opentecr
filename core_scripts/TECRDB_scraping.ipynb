{
 "cells": [
  {
   "cell_type": "code",
   "execution_count": 25,
   "id": "9ec7be81-7c22-44fb-a5ff-64e4c9ed1ea6",
   "metadata": {},
   "outputs": [
    {
     "name": "stdout",
     "output_type": "stream",
     "text": [
      "54CHA_1086 \t\tloop: 0 \t\t185/1433 enzymes \t\t608 datums \t\t\t\t\t\t\t\t\r"
     ]
    },
    {
     "name": "stderr",
     "output_type": "stream",
     "text": [
      "C:\\Users\\Andrew Freiburger\\Documents\\Argonne\\openTECR\\Code\\core_scripts\\scraping.py:61: UserWarning: TECRError: The 54GIN/STU_1062 reference https://randr.nist.gov/enzyme/DataDetails.aspx?ID=54GIN/STU_1062&finalterm=&data=enzyme does not possess data.\n",
      "  continue\n"
     ]
    },
    {
     "name": "stdout",
     "output_type": "stream",
     "text": [
      "54MIT/DAV_1168 \t\tloop: 0 \t\t198/1433 enzymes \t\t630 datums \t\t\t\t\r"
     ]
    },
    {
     "name": "stderr",
     "output_type": "stream",
     "text": [
      "C:\\Users\\Andrew Freiburger\\Documents\\Argonne\\openTECR\\Code\\core_scripts\\scraping.py:61: UserWarning: TECRError: The 54NOD/KUB_593 reference https://randr.nist.gov/enzyme/DataDetails.aspx?ID=54NOD/KUB_593&finalterm=&data=enzyme does not possess data.\n",
      "  continue\n"
     ]
    },
    {
     "name": "stdout",
     "output_type": "stream",
     "text": [
      "56PAL/DOU_1344 \t\tloop: 0 \t\t273/1433 enzymes \t\t807 datums \t\t\t\t\r"
     ]
    },
    {
     "name": "stderr",
     "output_type": "stream",
     "text": [
      "C:\\Users\\Andrew Freiburger\\Documents\\Argonne\\openTECR\\Code\\core_scripts\\scraping.py:61: UserWarning: TECRError: The 56POD/MOR_1073 reference https://randr.nist.gov/enzyme/DataDetails.aspx?ID=56POD/MOR_1073&finalterm=&data=enzyme does not possess data.\n",
      "  continue\n"
     ]
    },
    {
     "name": "stdout",
     "output_type": "stream",
     "text": [
      "57VLA/VLA_545 \t\tloop: 0 \t\t319/1433 enzymes \t\t920 datums \t\t\t\t\t\r"
     ]
    },
    {
     "name": "stderr",
     "output_type": "stream",
     "text": [
      "C:\\Users\\Andrew Freiburger\\Documents\\Argonne\\openTECR\\Code\\core_scripts\\scraping.py:61: UserWarning: TECRError: The 57WOL/BAL_1173 reference https://randr.nist.gov/enzyme/DataDetails.aspx?ID=57WOL/BAL_1173&finalterm=&data=enzyme does not possess data.\n",
      "  continue\n"
     ]
    },
    {
     "name": "stdout",
     "output_type": "stream",
     "text": [
      "67BAR_1134 \t\tloop: 0 \t\t613/1433 enzymes \t\t1451 datums \t\t\t\t\t\t\t\t\t\r"
     ]
    },
    {
     "name": "stderr",
     "output_type": "stream",
     "text": [
      "C:\\Users\\Andrew Freiburger\\Documents\\Argonne\\openTECR\\Code\\core_scripts\\scraping.py:61: UserWarning: TECRError: The 66WOO/DAV_1445 reference https://randr.nist.gov/enzyme/DataDetails.aspx?ID=66WOO/DAV_1445&finalterm=&data=enzyme does not possess data.\n",
      "  continue\n"
     ]
    },
    {
     "name": "stdout",
     "output_type": "stream",
     "text": [
      "67PLO/CLE_1130 \t\tloop: 0 \t\t625/1433 enzymes \t\t1535 datums \t\t\t\t\r"
     ]
    },
    {
     "name": "stderr",
     "output_type": "stream",
     "text": [
      "C:\\Users\\Andrew Freiburger\\Documents\\Argonne\\openTECR\\Code\\core_scripts\\scraping.py:61: UserWarning: TECRError: The 67MOR/WHI_596 reference https://randr.nist.gov/enzyme/DataDetails.aspx?ID=67MOR/WHI_596&finalterm=&data=enzyme does not possess data.\n",
      "  continue\n"
     ]
    },
    {
     "name": "stdout",
     "output_type": "stream",
     "text": [
      "68KOH_192 \t\tloop: 0 \t\t673/1433 enzymes \t\t1674 datums \t\t\t\t\t\t\t\t\t\r"
     ]
    },
    {
     "name": "stderr",
     "output_type": "stream",
     "text": [
      "C:\\Users\\Andrew Freiburger\\Documents\\Argonne\\openTECR\\Code\\core_scripts\\scraping.py:61: UserWarning: TECRError: The 68KOH/WAR_87 reference https://randr.nist.gov/enzyme/DataDetails.aspx?ID=68KOH/WAR_87&finalterm=&data=enzyme does not possess data.\n",
      "  continue\n"
     ]
    },
    {
     "name": "stdout",
     "output_type": "stream",
     "text": [
      "69BLA/FRA_1381 \t\tloop: 0 \t\t696/1433 enzymes \t\t1752 datums \t\t\t\t\r"
     ]
    },
    {
     "name": "stderr",
     "output_type": "stream",
     "text": [
      "C:\\Users\\Andrew Freiburger\\Documents\\Argonne\\openTECR\\Code\\core_scripts\\scraping.py:61: UserWarning: TECRError: The 69BLA_1166 reference https://randr.nist.gov/enzyme/DataDetails.aspx?ID=69BLA_1166&finalterm=&data=enzyme does not possess data.\n",
      "  continue\n"
     ]
    },
    {
     "name": "stdout",
     "output_type": "stream",
     "text": [
      "74CHE/PAT_837 \t\tloop: 0 \t\t851/1433 enzymes \t\t2196 datums \t\t\t\t\t\r"
     ]
    },
    {
     "name": "stderr",
     "output_type": "stream",
     "text": [
      "C:\\Users\\Andrew Freiburger\\Documents\\Argonne\\openTECR\\Code\\core_scripts\\scraping.py:61: UserWarning: TECRError: The 74CLA/BIR_1395 reference https://randr.nist.gov/enzyme/DataDetails.aspx?ID=74CLA/BIR_1395&finalterm=&data=enzyme does not possess data.\n",
      "  continue\n"
     ]
    },
    {
     "name": "stdout",
     "output_type": "stream",
     "text": [
      "74FER/STR_1380 \t\tloop: 0 \t\t855/1433 enzymes \t\t2199 datums \t\t\t\t\r"
     ]
    },
    {
     "name": "stderr",
     "output_type": "stream",
     "text": [
      "C:\\Users\\Andrew Freiburger\\Documents\\Argonne\\openTECR\\Code\\core_scripts\\scraping.py:61: UserWarning: TECRError: The 74FLO/FLE_1063 reference https://randr.nist.gov/enzyme/DataDetails.aspx?ID=74FLO/FLE_1063&finalterm=&data=enzyme does not possess data.\n",
      "  continue\n"
     ]
    },
    {
     "name": "stdout",
     "output_type": "stream",
     "text": [
      "74LAN_575 \t\tloop: 0 \t\t867/1433 enzymes \t\t2248 datums \t\t\t\t \t\t\t\t\r"
     ]
    },
    {
     "name": "stderr",
     "output_type": "stream",
     "text": [
      "C:\\Users\\Andrew Freiburger\\Documents\\Argonne\\openTECR\\Code\\core_scripts\\scraping.py:61: UserWarning: TECRError: The 74LAN_648 reference https://randr.nist.gov/enzyme/DataDetails.aspx?ID=74LAN_648&finalterm=&data=enzyme does not possess data.\n",
      "  continue\n"
     ]
    },
    {
     "name": "stdout",
     "output_type": "stream",
     "text": [
      "76GRE/BRI_328 \t\tloop: 0 \t\t919/1433 enzymes \t\t2413 datums \t\t\t\t\t\r"
     ]
    },
    {
     "name": "stderr",
     "output_type": "stream",
     "text": [
      "C:\\Users\\Andrew Freiburger\\Documents\\Argonne\\openTECR\\Code\\core_scripts\\scraping.py:61: UserWarning: TECRError: The 76GOL_548 reference https://randr.nist.gov/enzyme/DataDetails.aspx?ID=76GOL_548&finalterm=&data=enzyme does not possess data.\n",
      "  continue\n"
     ]
    },
    {
     "name": "stdout",
     "output_type": "stream",
     "text": [
      "79BYE/SHE_255 \t\tloop: 0 \t\t967/1433 enzymes \t\t2605 datums \t\t\t\t\t\r"
     ]
    },
    {
     "name": "stderr",
     "output_type": "stream",
     "text": [
      "C:\\Users\\Andrew Freiburger\\Documents\\Argonne\\openTECR\\Code\\core_scripts\\scraping.py:61: UserWarning: TECRError: The 79COR/CRO_16 reference https://randr.nist.gov/enzyme/DataDetails.aspx?ID=79COR/CRO_16&finalterm=&data=enzyme does not possess data.\n",
      "  continue\n"
     ]
    },
    {
     "name": "stdout",
     "output_type": "stream",
     "text": [
      "79LAW/VEE_651 \t\tloop: 0 \t\t980/1433 enzymes \t\t2700 datums \t\t\t\t\t\r"
     ]
    },
    {
     "name": "stderr",
     "output_type": "stream",
     "text": [
      "C:\\Users\\Andrew Freiburger\\Documents\\Argonne\\openTECR\\Code\\core_scripts\\scraping.py:61: UserWarning: TECRError: The 79LAW/VEE_774 reference https://randr.nist.gov/enzyme/DataDetails.aspx?ID=79LAW/VEE_774&finalterm=&data=enzyme does not possess data.\n",
      "  continue\n",
      "C:\\Users\\Andrew Freiburger\\Documents\\Argonne\\openTECR\\Code\\core_scripts\\scraping.py:61: UserWarning: TECRError: The 79LAW/VEE_831 reference https://randr.nist.gov/enzyme/DataDetails.aspx?ID=79LAW/VEE_831&finalterm=&data=enzyme does not possess data.\n",
      "  continue\n"
     ]
    },
    {
     "name": "stdout",
     "output_type": "stream",
     "text": [
      "84DEY_1257 \t\tloop: 0 \t\t1080/1433 enzymes \t\t3092 datums \t\t\t\t\t\t\t\t\r"
     ]
    },
    {
     "name": "stderr",
     "output_type": "stream",
     "text": [
      "C:\\Users\\Andrew Freiburger\\Documents\\Argonne\\openTECR\\Code\\core_scripts\\scraping.py:61: UserWarning: TECRError: The 84DEM_1065 reference https://randr.nist.gov/enzyme/DataDetails.aspx?ID=84DEM_1065&finalterm=&data=enzyme does not possess data.\n",
      "  continue\n"
     ]
    },
    {
     "name": "stdout",
     "output_type": "stream",
     "text": [
      "85FAG/DEW_1080 \t\tloop: 0 \t\t1101/1433 enzymes \t\t3132 datums \t\t\t\t\r"
     ]
    },
    {
     "name": "stderr",
     "output_type": "stream",
     "text": [
      "C:\\Users\\Andrew Freiburger\\Documents\\Argonne\\openTECR\\Code\\core_scripts\\scraping.py:61: UserWarning: TECRError: The 85DEM/BEH_1066 reference https://randr.nist.gov/enzyme/DataDetails.aspx?ID=85DEM/BEH_1066&finalterm=&data=enzyme does not possess data.\n",
      "  continue\n"
     ]
    },
    {
     "name": "stdout",
     "output_type": "stream",
     "text": [
      "86CAS/VEE2_753 \t\tloop: 0 \t\t1129/1433 enzymes \t\t3279 datums \t\t\t\t\t\r"
     ]
    },
    {
     "name": "stderr",
     "output_type": "stream",
     "text": [
      "C:\\Users\\Andrew Freiburger\\Documents\\Argonne\\openTECR\\Code\\core_scripts\\scraping.py:61: UserWarning: TECRError: The 86DAL/REN_1067 reference https://randr.nist.gov/enzyme/DataDetails.aspx?ID=86DAL/REN_1067&finalterm=&data=enzyme does not possess data.\n",
      "  continue\n"
     ]
    },
    {
     "name": "stdout",
     "output_type": "stream",
     "text": [
      "89ROM/DEM_780 \t\tloop: 0 \t\t1212/1433 enzymes \t\t3556 datums \t\t\t\t\t\r"
     ]
    },
    {
     "name": "stderr",
     "output_type": "stream",
     "text": [
      "C:\\Users\\Andrew Freiburger\\Documents\\Argonne\\openTECR\\Code\\core_scripts\\scraping.py:61: UserWarning: TECRError: The 89ROM/DEM_808 reference https://randr.nist.gov/enzyme/DataDetails.aspx?ID=89ROM/DEM_808&finalterm=&data=enzyme does not possess data.\n",
      "  continue\n",
      "C:\\Users\\Andrew Freiburger\\Documents\\Argonne\\openTECR\\Code\\core_scripts\\scraping.py:61: UserWarning: TECRError: The 89ROM/DEM_812 reference https://randr.nist.gov/enzyme/DataDetails.aspx?ID=89ROM/DEM_812&finalterm=&data=enzyme does not possess data.\n",
      "  continue\n"
     ]
    },
    {
     "name": "stdout",
     "output_type": "stream",
     "text": [
      "91KLE/RAN_654 \t\tloop: 0 \t\t1244/1433 enzymes \t\t3614 datums \t\t\t\t\t\r"
     ]
    },
    {
     "name": "stderr",
     "output_type": "stream",
     "text": [
      "C:\\Users\\Andrew Freiburger\\Documents\\Argonne\\openTECR\\Code\\core_scripts\\scraping.py:61: UserWarning: TECRError: The 91HOR/WAT_468 reference https://randr.nist.gov/enzyme/DataDetails.aspx?ID=91HOR/WAT_468&finalterm=&data=enzyme does not possess data.\n",
      "  continue\n"
     ]
    },
    {
     "name": "stdout",
     "output_type": "stream",
     "text": [
      "91TEW/GOL_935 \t\tloop: 0 \t\t1264/1433 enzymes \t\t3660 datums \t\t\t\t\t\r"
     ]
    },
    {
     "name": "stderr",
     "output_type": "stream",
     "text": [
      "C:\\Users\\Andrew Freiburger\\Documents\\Argonne\\openTECR\\Code\\core_scripts\\scraping.py:61: UserWarning: TECRError: The 91TEW/GOL2_655 reference https://randr.nist.gov/enzyme/DataDetails.aspx?ID=91TEW/GOL2_655&finalterm=&data=enzyme does not possess data.\n",
      "  continue\n",
      "C:\\Users\\Andrew Freiburger\\Documents\\Argonne\\openTECR\\Code\\core_scripts\\scraping.py:61: UserWarning: TECRError: The 91TEW/GOL2_656 reference https://randr.nist.gov/enzyme/DataDetails.aspx?ID=91TEW/GOL2_656&finalterm=&data=enzyme does not possess data.\n",
      "  continue\n"
     ]
    },
    {
     "name": "stdout",
     "output_type": "stream",
     "text": [
      "93JAN/PAD_742 \t\tloop: 0 \t\t1313/1433 enzymes \t\t3771 datums \t\t\t\t\t\r"
     ]
    },
    {
     "name": "stderr",
     "output_type": "stream",
     "text": [
      "C:\\Users\\Andrew Freiburger\\Documents\\Argonne\\openTECR\\Code\\core_scripts\\scraping.py:61: UserWarning: TECRError: The 93LAR/TEW_1053 reference https://randr.nist.gov/enzyme/DataDetails.aspx?ID=93LAR/TEW_1053&finalterm=&data=enzyme does not possess data.\n",
      "  continue\n",
      "C:\\Users\\Andrew Freiburger\\Documents\\Argonne\\openTECR\\Code\\core_scripts\\scraping.py:61: UserWarning: TECRError: The 93LAR/TEW_1056 reference https://randr.nist.gov/enzyme/DataDetails.aspx?ID=93LAR/TEW_1056&finalterm=&data=enzyme does not possess data.\n",
      "  continue\n"
     ]
    },
    {
     "name": "stdout",
     "output_type": "stream",
     "text": [
      "99TEW/SCH_723 \t\tloop: 0 \t\t1432/1433 enzymes \t\t4034 datums \t\t\t\t\t\t\r"
     ]
    },
    {
     "data": {
      "text/html": [
       "<div>\n",
       "<style scoped>\n",
       "    .dataframe tbody tr th:only-of-type {\n",
       "        vertical-align: middle;\n",
       "    }\n",
       "\n",
       "    .dataframe tbody tr th {\n",
       "        vertical-align: top;\n",
       "    }\n",
       "\n",
       "    .dataframe thead th {\n",
       "        text-align: right;\n",
       "    }\n",
       "</style>\n",
       "<table border=\"1\" class=\"dataframe\">\n",
       "  <thead>\n",
       "    <tr style=\"text-align: right;\">\n",
       "      <th></th>\n",
       "      <th>Enzyme:</th>\n",
       "      <th>Reaction:</th>\n",
       "      <th>T(K)</th>\n",
       "      <th>pH</th>\n",
       "      <th>K&lt;sub&gt;c&lt;/sub&gt;'</th>\n",
       "      <th>Reference:</th>\n",
       "      <th>Reference ID:</th>\n",
       "      <th>EC Value:</th>\n",
       "      <th>Method:</th>\n",
       "      <th>Buffer:</th>\n",
       "      <th>...</th>\n",
       "      <th>δ&lt;sub&gt;r&lt;/sub&gt;H(cal)/,kJ.mol&lt;sup&gt;-1&lt;/sup&gt;)</th>\n",
       "      <th>p(MPa)</th>\n",
       "      <th>added solute</th>\n",
       "      <th>media</th>\n",
       "      <th>K</th>\n",
       "      <th>m(MgCl2,mol.kg&lt;sup&gt;-1&lt;/sup&gt;)</th>\n",
       "      <th>K'(kJ.mol&lt;sup&gt;-1&lt;/sup&gt;)</th>\n",
       "      <th>I&lt;sub&gt;c&lt;/sub&gt;(kJ.mol&lt;sup&gt;-1&lt;/sup&gt;)</th>\n",
       "      <th>δ&lt;sub&gt;r&lt;/sub&gt;H(cal)</th>\n",
       "      <th>δ&lt;sub&gt;r&lt;/sub&gt;H?(kJ.mol&lt;sup&gt;-1&lt;/sup&gt;)</th>\n",
       "    </tr>\n",
       "    <tr>\n",
       "      <th>index</th>\n",
       "      <th></th>\n",
       "      <th></th>\n",
       "      <th></th>\n",
       "      <th></th>\n",
       "      <th></th>\n",
       "      <th></th>\n",
       "      <th></th>\n",
       "      <th></th>\n",
       "      <th></th>\n",
       "      <th></th>\n",
       "      <th></th>\n",
       "      <th></th>\n",
       "      <th></th>\n",
       "      <th></th>\n",
       "      <th></th>\n",
       "      <th></th>\n",
       "      <th></th>\n",
       "      <th></th>\n",
       "      <th></th>\n",
       "      <th></th>\n",
       "      <th></th>\n",
       "    </tr>\n",
       "  </thead>\n",
       "  <tbody>\n",
       "    <tr>\n",
       "      <th>0</th>\n",
       "      <td>aspartate ammonia-lyase</td>\n",
       "      <td>L-aspartate(aq) = fumarate(aq) + ammonia(aq)</td>\n",
       "      <td>310.15</td>\n",
       "      <td>7.4</td>\n",
       "      <td>~0.04</td>\n",
       "      <td>Quastel J.H.; Woolf B.; Biochem. J.; 20 545 (1...</td>\n",
       "      <td>26QUA/WOO_1205</td>\n",
       "      <td>4.3.1.1\\r                                    ...</td>\n",
       "      <td>chemical analysis</td>\n",
       "      <td>phosphate</td>\n",
       "      <td>...</td>\n",
       "      <td>NaN</td>\n",
       "      <td>NaN</td>\n",
       "      <td>NaN</td>\n",
       "      <td>NaN</td>\n",
       "      <td>NaN</td>\n",
       "      <td>NaN</td>\n",
       "      <td>NaN</td>\n",
       "      <td>NaN</td>\n",
       "      <td>NaN</td>\n",
       "      <td>NaN</td>\n",
       "    </tr>\n",
       "    <tr>\n",
       "      <th>1</th>\n",
       "      <td>aspartate ammonia-lyase</td>\n",
       "      <td>L-aspartate(aq) = fumarate(aq) + ammonia(aq)</td>\n",
       "      <td>310.15</td>\n",
       "      <td>7.4</td>\n",
       "      <td>0.01</td>\n",
       "      <td>Woolf B.; Biochem. J.; 23 472 (1929).</td>\n",
       "      <td>29WOO_1206</td>\n",
       "      <td>4.3.1.1\\r                                    ...</td>\n",
       "      <td>chemical analysis and polarimetry</td>\n",
       "      <td>phosphate</td>\n",
       "      <td>...</td>\n",
       "      <td>NaN</td>\n",
       "      <td>NaN</td>\n",
       "      <td>NaN</td>\n",
       "      <td>NaN</td>\n",
       "      <td>NaN</td>\n",
       "      <td>NaN</td>\n",
       "      <td>NaN</td>\n",
       "      <td>NaN</td>\n",
       "      <td>NaN</td>\n",
       "      <td>NaN</td>\n",
       "    </tr>\n",
       "    <tr>\n",
       "      <th>2</th>\n",
       "      <td>fumarate hydratase</td>\n",
       "      <td>fumarate(aq) + H2O(l) = (S)-malate(aq)</td>\n",
       "      <td>298.15</td>\n",
       "      <td>6.81</td>\n",
       "      <td>NaN</td>\n",
       "      <td>Borsook H.; Schott H.F.; J. Biol. Chem.; 92 55...</td>\n",
       "      <td>31BOR/SCH_1141</td>\n",
       "      <td>4.2.1.2\\r                                    ...</td>\n",
       "      <td>electrochemistry</td>\n",
       "      <td></td>\n",
       "      <td>...</td>\n",
       "      <td>NaN</td>\n",
       "      <td>NaN</td>\n",
       "      <td>NaN</td>\n",
       "      <td>NaN</td>\n",
       "      <td>NaN</td>\n",
       "      <td>NaN</td>\n",
       "      <td>NaN</td>\n",
       "      <td>NaN</td>\n",
       "      <td>NaN</td>\n",
       "      <td>NaN</td>\n",
       "    </tr>\n",
       "    <tr>\n",
       "      <th>3</th>\n",
       "      <td>fumarate hydratase</td>\n",
       "      <td>fumarate(aq) + H2O(l) = (S)-malate(aq)</td>\n",
       "      <td>298.15</td>\n",
       "      <td>7.12</td>\n",
       "      <td>NaN</td>\n",
       "      <td>NaN</td>\n",
       "      <td>NaN</td>\n",
       "      <td>NaN</td>\n",
       "      <td>NaN</td>\n",
       "      <td>NaN</td>\n",
       "      <td>...</td>\n",
       "      <td>NaN</td>\n",
       "      <td>NaN</td>\n",
       "      <td>NaN</td>\n",
       "      <td>NaN</td>\n",
       "      <td>NaN</td>\n",
       "      <td>NaN</td>\n",
       "      <td>NaN</td>\n",
       "      <td>NaN</td>\n",
       "      <td>NaN</td>\n",
       "      <td>NaN</td>\n",
       "    </tr>\n",
       "    <tr>\n",
       "      <th>4</th>\n",
       "      <td>fumarate hydratase</td>\n",
       "      <td>fumarate(aq) + H2O(l) = (S)-malate(aq)</td>\n",
       "      <td>278.15</td>\n",
       "      <td>6.8</td>\n",
       "      <td>NaN</td>\n",
       "      <td>Jacobsohn K.P.; Biochem. Z.; 274 167 (1934).</td>\n",
       "      <td>34JAC_1142</td>\n",
       "      <td>4.2.1.2\\r                                    ...</td>\n",
       "      <td>polarimetry</td>\n",
       "      <td>barbital</td>\n",
       "      <td>...</td>\n",
       "      <td>NaN</td>\n",
       "      <td>NaN</td>\n",
       "      <td>NaN</td>\n",
       "      <td>NaN</td>\n",
       "      <td>NaN</td>\n",
       "      <td>NaN</td>\n",
       "      <td>NaN</td>\n",
       "      <td>NaN</td>\n",
       "      <td>NaN</td>\n",
       "      <td>NaN</td>\n",
       "    </tr>\n",
       "    <tr>\n",
       "      <th>...</th>\n",
       "      <td>...</td>\n",
       "      <td>...</td>\n",
       "      <td>...</td>\n",
       "      <td>...</td>\n",
       "      <td>...</td>\n",
       "      <td>...</td>\n",
       "      <td>...</td>\n",
       "      <td>...</td>\n",
       "      <td>...</td>\n",
       "      <td>...</td>\n",
       "      <td>...</td>\n",
       "      <td>...</td>\n",
       "      <td>...</td>\n",
       "      <td>...</td>\n",
       "      <td>...</td>\n",
       "      <td>...</td>\n",
       "      <td>...</td>\n",
       "      <td>...</td>\n",
       "      <td>...</td>\n",
       "      <td>...</td>\n",
       "      <td>...</td>\n",
       "    </tr>\n",
       "    <tr>\n",
       "      <th>4036</th>\n",
       "      <td>triacylglycerol lipase</td>\n",
       "      <td>1-dodecanoic acid(sln) + (-)-menthol(sln) = (...</td>\n",
       "      <td>298.15</td>\n",
       "      <td>NaN</td>\n",
       "      <td>NaN</td>\n",
       "      <td>NaN</td>\n",
       "      <td>NaN</td>\n",
       "      <td>NaN</td>\n",
       "      <td>NaN</td>\n",
       "      <td>NaN</td>\n",
       "      <td>...</td>\n",
       "      <td>NaN</td>\n",
       "      <td>NaN</td>\n",
       "      <td>NaN</td>\n",
       "      <td>NaN</td>\n",
       "      <td>3.23</td>\n",
       "      <td>NaN</td>\n",
       "      <td>NaN</td>\n",
       "      <td>NaN</td>\n",
       "      <td>NaN</td>\n",
       "      <td>NaN</td>\n",
       "    </tr>\n",
       "    <tr>\n",
       "      <th>4037</th>\n",
       "      <td>triacylglycerol lipase</td>\n",
       "      <td>1-dodecanoic acid(sln) + (-)-menthol(sln) = (...</td>\n",
       "      <td>298.15</td>\n",
       "      <td>NaN</td>\n",
       "      <td>NaN</td>\n",
       "      <td>NaN</td>\n",
       "      <td>NaN</td>\n",
       "      <td>NaN</td>\n",
       "      <td>NaN</td>\n",
       "      <td>NaN</td>\n",
       "      <td>...</td>\n",
       "      <td>NaN</td>\n",
       "      <td>NaN</td>\n",
       "      <td>NaN</td>\n",
       "      <td>NaN</td>\n",
       "      <td>23.7</td>\n",
       "      <td>NaN</td>\n",
       "      <td>NaN</td>\n",
       "      <td>NaN</td>\n",
       "      <td>NaN</td>\n",
       "      <td>NaN</td>\n",
       "    </tr>\n",
       "    <tr>\n",
       "      <th>4038</th>\n",
       "      <td>triacylglycerol lipase</td>\n",
       "      <td>1-dodecanoic acid(sln) + (-)-menthol(sln) = (...</td>\n",
       "      <td>298.15</td>\n",
       "      <td>NaN</td>\n",
       "      <td>NaN</td>\n",
       "      <td>NaN</td>\n",
       "      <td>NaN</td>\n",
       "      <td>NaN</td>\n",
       "      <td>NaN</td>\n",
       "      <td>NaN</td>\n",
       "      <td>...</td>\n",
       "      <td>NaN</td>\n",
       "      <td>NaN</td>\n",
       "      <td>NaN</td>\n",
       "      <td>NaN</td>\n",
       "      <td>21.7</td>\n",
       "      <td>NaN</td>\n",
       "      <td>NaN</td>\n",
       "      <td>NaN</td>\n",
       "      <td>NaN</td>\n",
       "      <td>NaN</td>\n",
       "    </tr>\n",
       "    <tr>\n",
       "      <th>4039</th>\n",
       "      <td>triacylglycerol lipase</td>\n",
       "      <td>1-dodecanoic acid(sln) + (-)-menthol(sln) = (...</td>\n",
       "      <td>298.15</td>\n",
       "      <td>NaN</td>\n",
       "      <td>NaN</td>\n",
       "      <td>NaN</td>\n",
       "      <td>NaN</td>\n",
       "      <td>NaN</td>\n",
       "      <td>NaN</td>\n",
       "      <td>NaN</td>\n",
       "      <td>...</td>\n",
       "      <td>NaN</td>\n",
       "      <td>NaN</td>\n",
       "      <td>NaN</td>\n",
       "      <td>NaN</td>\n",
       "      <td>6.5</td>\n",
       "      <td>NaN</td>\n",
       "      <td>NaN</td>\n",
       "      <td>NaN</td>\n",
       "      <td>NaN</td>\n",
       "      <td>NaN</td>\n",
       "    </tr>\n",
       "    <tr>\n",
       "      <th>4040</th>\n",
       "      <td>triacylglycerol lipase</td>\n",
       "      <td>1-dodecanoic acid(sln) + (-)-menthol(sln) = (...</td>\n",
       "      <td>298.15</td>\n",
       "      <td>NaN</td>\n",
       "      <td>NaN</td>\n",
       "      <td>NaN</td>\n",
       "      <td>NaN</td>\n",
       "      <td>NaN</td>\n",
       "      <td>NaN</td>\n",
       "      <td>NaN</td>\n",
       "      <td>...</td>\n",
       "      <td>NaN</td>\n",
       "      <td>NaN</td>\n",
       "      <td>NaN</td>\n",
       "      <td>NaN</td>\n",
       "      <td>12.0</td>\n",
       "      <td>NaN</td>\n",
       "      <td>NaN</td>\n",
       "      <td>NaN</td>\n",
       "      <td>NaN</td>\n",
       "      <td>NaN</td>\n",
       "    </tr>\n",
       "  </tbody>\n",
       "</table>\n",
       "<p>4041 rows × 59 columns</p>\n",
       "</div>"
      ],
      "text/plain": [
       "                        Enzyme:  \\\n",
       "index                             \n",
       "0       aspartate ammonia-lyase   \n",
       "1       aspartate ammonia-lyase   \n",
       "2            fumarate hydratase   \n",
       "3            fumarate hydratase   \n",
       "4            fumarate hydratase   \n",
       "...                         ...   \n",
       "4036     triacylglycerol lipase   \n",
       "4037     triacylglycerol lipase   \n",
       "4038     triacylglycerol lipase   \n",
       "4039     triacylglycerol lipase   \n",
       "4040     triacylglycerol lipase   \n",
       "\n",
       "                                               Reaction:    T(K)   pH   \\\n",
       "index                                                                    \n",
       "0           L-aspartate(aq) = fumarate(aq) + ammonia(aq)  310.15   7.4   \n",
       "1           L-aspartate(aq) = fumarate(aq) + ammonia(aq)  310.15   7.4   \n",
       "2                 fumarate(aq) + H2O(l) = (S)-malate(aq)  298.15  6.81   \n",
       "3                 fumarate(aq) + H2O(l) = (S)-malate(aq)  298.15  7.12   \n",
       "4                 fumarate(aq) + H2O(l) = (S)-malate(aq)  278.15   6.8   \n",
       "...                                                  ...     ...   ...   \n",
       "4036    1-dodecanoic acid(sln) + (-)-menthol(sln) = (...  298.15   NaN   \n",
       "4037    1-dodecanoic acid(sln) + (-)-menthol(sln) = (...  298.15   NaN   \n",
       "4038    1-dodecanoic acid(sln) + (-)-menthol(sln) = (...  298.15   NaN   \n",
       "4039    1-dodecanoic acid(sln) + (-)-menthol(sln) = (...  298.15   NaN   \n",
       "4040    1-dodecanoic acid(sln) + (-)-menthol(sln) = (...  298.15   NaN   \n",
       "\n",
       "      K<sub>c</sub>'                                          Reference:  \\\n",
       "index                                                                      \n",
       "0               ~0.04  Quastel J.H.; Woolf B.; Biochem. J.; 20 545 (1...   \n",
       "1                0.01              Woolf B.; Biochem. J.; 23 472 (1929).   \n",
       "2                 NaN  Borsook H.; Schott H.F.; J. Biol. Chem.; 92 55...   \n",
       "3                 NaN                                                NaN   \n",
       "4                 NaN       Jacobsohn K.P.; Biochem. Z.; 274 167 (1934).   \n",
       "...               ...                                                ...   \n",
       "4036              NaN                                                NaN   \n",
       "4037              NaN                                                NaN   \n",
       "4038              NaN                                                NaN   \n",
       "4039              NaN                                                NaN   \n",
       "4040              NaN                                                NaN   \n",
       "\n",
       "        Reference ID:                                          EC Value:  \\\n",
       "index                                                                      \n",
       "0      26QUA/WOO_1205   4.3.1.1\\r                                    ...   \n",
       "1          29WOO_1206   4.3.1.1\\r                                    ...   \n",
       "2      31BOR/SCH_1141   4.2.1.2\\r                                    ...   \n",
       "3                 NaN                                                NaN   \n",
       "4          34JAC_1142   4.2.1.2\\r                                    ...   \n",
       "...               ...                                                ...   \n",
       "4036              NaN                                                NaN   \n",
       "4037              NaN                                                NaN   \n",
       "4038              NaN                                                NaN   \n",
       "4039              NaN                                                NaN   \n",
       "4040              NaN                                                NaN   \n",
       "\n",
       "                                  Method:     Buffer:  ...  \\\n",
       "index                                                  ...   \n",
       "0                       chemical analysis   phosphate  ...   \n",
       "1       chemical analysis and polarimetry   phosphate  ...   \n",
       "2                        electrochemistry              ...   \n",
       "3                                     NaN         NaN  ...   \n",
       "4                             polarimetry    barbital  ...   \n",
       "...                                   ...         ...  ...   \n",
       "4036                                  NaN         NaN  ...   \n",
       "4037                                  NaN         NaN  ...   \n",
       "4038                                  NaN         NaN  ...   \n",
       "4039                                  NaN         NaN  ...   \n",
       "4040                                  NaN         NaN  ...   \n",
       "\n",
       "      δ<sub>r</sub>H(cal)/,kJ.mol<sup>-1</sup>) p(MPa) added solute  media   \\\n",
       "index                                                                         \n",
       "0                                           NaN    NaN           NaN    NaN   \n",
       "1                                           NaN    NaN           NaN    NaN   \n",
       "2                                           NaN    NaN           NaN    NaN   \n",
       "3                                           NaN    NaN           NaN    NaN   \n",
       "4                                           NaN    NaN           NaN    NaN   \n",
       "...                                         ...    ...           ...    ...   \n",
       "4036                                        NaN    NaN           NaN    NaN   \n",
       "4037                                        NaN    NaN           NaN    NaN   \n",
       "4038                                        NaN    NaN           NaN    NaN   \n",
       "4039                                        NaN    NaN           NaN    NaN   \n",
       "4040                                        NaN    NaN           NaN    NaN   \n",
       "\n",
       "         K  m(MgCl2,mol.kg<sup>-1</sup>) K'(kJ.mol<sup>-1</sup>)  \\\n",
       "index                                                              \n",
       "0       NaN                          NaN                     NaN   \n",
       "1       NaN                          NaN                     NaN   \n",
       "2       NaN                          NaN                     NaN   \n",
       "3       NaN                          NaN                     NaN   \n",
       "4       NaN                          NaN                     NaN   \n",
       "...     ...                          ...                     ...   \n",
       "4036   3.23                          NaN                     NaN   \n",
       "4037   23.7                          NaN                     NaN   \n",
       "4038   21.7                          NaN                     NaN   \n",
       "4039    6.5                          NaN                     NaN   \n",
       "4040   12.0                          NaN                     NaN   \n",
       "\n",
       "      I<sub>c</sub>(kJ.mol<sup>-1</sup>) δ<sub>r</sub>H(cal)   \\\n",
       "index                                                           \n",
       "0                                    NaN                  NaN   \n",
       "1                                    NaN                  NaN   \n",
       "2                                    NaN                  NaN   \n",
       "3                                    NaN                  NaN   \n",
       "4                                    NaN                  NaN   \n",
       "...                                  ...                  ...   \n",
       "4036                                 NaN                  NaN   \n",
       "4037                                 NaN                  NaN   \n",
       "4038                                 NaN                  NaN   \n",
       "4039                                 NaN                  NaN   \n",
       "4040                                 NaN                  NaN   \n",
       "\n",
       "      δ<sub>r</sub>H?(kJ.mol<sup>-1</sup>)  \n",
       "index                                       \n",
       "0                                      NaN  \n",
       "1                                      NaN  \n",
       "2                                      NaN  \n",
       "3                                      NaN  \n",
       "4                                      NaN  \n",
       "...                                    ...  \n",
       "4036                                   NaN  \n",
       "4037                                   NaN  \n",
       "4038                                   NaN  \n",
       "4039                                   NaN  \n",
       "4040                                   NaN  \n",
       "\n",
       "[4041 rows x 59 columns]"
      ]
     },
     "metadata": {},
     "output_type": "display_data"
    }
   ],
   "source": [
    "%run core_scripts/scraping.py\n",
    "\n",
    "tecr = TECR_scrape()"
   ]
  },
  {
   "cell_type": "code",
   "execution_count": 26,
   "id": "fe6d3599-ee0d-4fdf-a3a2-9fd27a17938b",
   "metadata": {},
   "outputs": [
    {
     "name": "stdout",
     "output_type": "stream",
     "text": [
      "\n",
      "Columns:\n",
      " ========\n",
      "index\n",
      "Unexpected exception formatting exception. Falling back to standard exception\n"
     ]
    },
    {
     "name": "stderr",
     "output_type": "stream",
     "text": [
      "Traceback (most recent call last):\n",
      "  File \"C:\\Users\\Andrew Freiburger\\AppData\\Local\\Programs\\Python\\Python39\\lib\\site-packages\\IPython\\core\\interactiveshell.py\", line 3397, in run_code\n",
      "    exec(code_obj, self.user_global_ns, self.user_ns)\n",
      "  File \"C:\\Users\\Andrew Freiburger\\AppData\\Local\\Temp\\ipykernel_45020\\2133219244.py\", line 1, in <cell line: 1>\n",
      "    tecr.amalgamate()\n",
      "  File \"C:\\Users\\Andrew Freiburger\\Documents\\Argonne\\openTECR\\Code\\core_scripts\\scraping.py\", line 183, in amalgamate\n",
      "    merge_cells('(?<=c\\()(\\w+\\d?\\+?)(?<!,)', 'c(glycerol,mol dm<sup>-3</sup>)', row)\n",
      "TypeError: list indices must be integers or slices, not str\n",
      "\n",
      "During handling of the above exception, another exception occurred:\n",
      "\n",
      "Traceback (most recent call last):\n",
      "  File \"C:\\Users\\Andrew Freiburger\\AppData\\Local\\Programs\\Python\\Python39\\lib\\site-packages\\IPython\\core\\interactiveshell.py\", line 1992, in showtraceback\n",
      "    stb = self.InteractiveTB.structured_traceback(\n",
      "  File \"C:\\Users\\Andrew Freiburger\\AppData\\Local\\Programs\\Python\\Python39\\lib\\site-packages\\IPython\\core\\ultratb.py\", line 1118, in structured_traceback\n",
      "    return FormattedTB.structured_traceback(\n",
      "  File \"C:\\Users\\Andrew Freiburger\\AppData\\Local\\Programs\\Python\\Python39\\lib\\site-packages\\IPython\\core\\ultratb.py\", line 1012, in structured_traceback\n",
      "    return VerboseTB.structured_traceback(\n",
      "  File \"C:\\Users\\Andrew Freiburger\\AppData\\Local\\Programs\\Python\\Python39\\lib\\site-packages\\IPython\\core\\ultratb.py\", line 865, in structured_traceback\n",
      "    formatted_exception = self.format_exception_as_a_whole(etype, evalue, etb, number_of_lines_of_context,\n",
      "  File \"C:\\Users\\Andrew Freiburger\\AppData\\Local\\Programs\\Python\\Python39\\lib\\site-packages\\IPython\\core\\ultratb.py\", line 818, in format_exception_as_a_whole\n",
      "    frames.append(self.format_record(r))\n",
      "  File \"C:\\Users\\Andrew Freiburger\\AppData\\Local\\Programs\\Python\\Python39\\lib\\site-packages\\IPython\\core\\ultratb.py\", line 736, in format_record\n",
      "    result += ''.join(_format_traceback_lines(frame_info.lines, Colors, self.has_colors, lvals))\n",
      "  File \"C:\\Users\\Andrew Freiburger\\AppData\\Local\\Programs\\Python\\Python39\\lib\\site-packages\\stack_data\\utils.py\", line 145, in cached_property_wrapper\n",
      "    value = obj.__dict__[self.func.__name__] = self.func(obj)\n",
      "  File \"C:\\Users\\Andrew Freiburger\\AppData\\Local\\Programs\\Python\\Python39\\lib\\site-packages\\stack_data\\core.py\", line 698, in lines\n",
      "    pieces = self.included_pieces\n",
      "  File \"C:\\Users\\Andrew Freiburger\\AppData\\Local\\Programs\\Python\\Python39\\lib\\site-packages\\stack_data\\utils.py\", line 145, in cached_property_wrapper\n",
      "    value = obj.__dict__[self.func.__name__] = self.func(obj)\n",
      "  File \"C:\\Users\\Andrew Freiburger\\AppData\\Local\\Programs\\Python\\Python39\\lib\\site-packages\\stack_data\\core.py\", line 649, in included_pieces\n",
      "    pos = scope_pieces.index(self.executing_piece)\n",
      "  File \"C:\\Users\\Andrew Freiburger\\AppData\\Local\\Programs\\Python\\Python39\\lib\\site-packages\\stack_data\\utils.py\", line 145, in cached_property_wrapper\n",
      "    value = obj.__dict__[self.func.__name__] = self.func(obj)\n",
      "  File \"C:\\Users\\Andrew Freiburger\\AppData\\Local\\Programs\\Python\\Python39\\lib\\site-packages\\stack_data\\core.py\", line 628, in executing_piece\n",
      "    return only(\n",
      "  File \"C:\\Users\\Andrew Freiburger\\AppData\\Local\\Programs\\Python\\Python39\\lib\\site-packages\\executing\\executing.py\", line 164, in only\n",
      "    raise NotOneValueFound('Expected one value, found 0')\n",
      "executing.executing.NotOneValueFound: Expected one value, found 0\n"
     ]
    }
   ],
   "source": [
    "tecr.amalgamate()"
   ]
  },
  {
   "cell_type": "markdown",
   "id": "ba4d5654-07bd-4339-9ef2-6f2175dd8a6e",
   "metadata": {},
   "source": [
    "# Brainstorming"
   ]
  },
  {
   "cell_type": "code",
   "execution_count": 10,
   "id": "0b0e075e-1d7b-4fac-be69-e23e99db3aae",
   "metadata": {},
   "outputs": [
    {
     "data": {
      "text/html": [
       "<div>\n",
       "<style scoped>\n",
       "    .dataframe tbody tr th:only-of-type {\n",
       "        vertical-align: middle;\n",
       "    }\n",
       "\n",
       "    .dataframe tbody tr th {\n",
       "        vertical-align: top;\n",
       "    }\n",
       "\n",
       "    .dataframe thead th {\n",
       "        text-align: right;\n",
       "    }\n",
       "</style>\n",
       "<table border=\"1\" class=\"dataframe\">\n",
       "  <thead>\n",
       "    <tr style=\"text-align: right;\">\n",
       "      <th></th>\n",
       "      <th>a</th>\n",
       "      <th>b</th>\n",
       "      <th>c</th>\n",
       "      <th>d</th>\n",
       "      <th>e</th>\n",
       "      <th>f</th>\n",
       "    </tr>\n",
       "  </thead>\n",
       "  <tbody>\n",
       "    <tr>\n",
       "      <th>a</th>\n",
       "      <td>2.0</td>\n",
       "      <td>NaN</td>\n",
       "      <td>NaN</td>\n",
       "      <td>NaN</td>\n",
       "      <td>NaN</td>\n",
       "      <td>NaN</td>\n",
       "    </tr>\n",
       "    <tr>\n",
       "      <th>b</th>\n",
       "      <td>NaN</td>\n",
       "      <td>2.0</td>\n",
       "      <td>NaN</td>\n",
       "      <td>NaN</td>\n",
       "      <td>NaN</td>\n",
       "      <td>NaN</td>\n",
       "    </tr>\n",
       "    <tr>\n",
       "      <th>c</th>\n",
       "      <td>NaN</td>\n",
       "      <td>NaN</td>\n",
       "      <td>2.0</td>\n",
       "      <td>NaN</td>\n",
       "      <td>NaN</td>\n",
       "      <td>NaN</td>\n",
       "    </tr>\n",
       "    <tr>\n",
       "      <th>d</th>\n",
       "      <td>NaN</td>\n",
       "      <td>NaN</td>\n",
       "      <td>NaN</td>\n",
       "      <td>2.0</td>\n",
       "      <td>NaN</td>\n",
       "      <td>NaN</td>\n",
       "    </tr>\n",
       "    <tr>\n",
       "      <th>e</th>\n",
       "      <td>NaN</td>\n",
       "      <td>NaN</td>\n",
       "      <td>NaN</td>\n",
       "      <td>NaN</td>\n",
       "      <td>2.0</td>\n",
       "      <td>NaN</td>\n",
       "    </tr>\n",
       "    <tr>\n",
       "      <th>f</th>\n",
       "      <td>NaN</td>\n",
       "      <td>NaN</td>\n",
       "      <td>NaN</td>\n",
       "      <td>NaN</td>\n",
       "      <td>NaN</td>\n",
       "      <td>2.0</td>\n",
       "    </tr>\n",
       "  </tbody>\n",
       "</table>\n",
       "</div>"
      ],
      "text/plain": [
       "     a    b    c    d    e    f\n",
       "a  2.0  NaN  NaN  NaN  NaN  NaN\n",
       "b  NaN  2.0  NaN  NaN  NaN  NaN\n",
       "c  NaN  NaN  2.0  NaN  NaN  NaN\n",
       "d  NaN  NaN  NaN  2.0  NaN  NaN\n",
       "e  NaN  NaN  NaN  NaN  2.0  NaN\n",
       "f  NaN  NaN  NaN  NaN  NaN  2.0"
      ]
     },
     "metadata": {},
     "output_type": "display_data"
    },
    {
     "data": {
      "text/html": [
       "<div>\n",
       "<style scoped>\n",
       "    .dataframe tbody tr th:only-of-type {\n",
       "        vertical-align: middle;\n",
       "    }\n",
       "\n",
       "    .dataframe tbody tr th {\n",
       "        vertical-align: top;\n",
       "    }\n",
       "\n",
       "    .dataframe thead th {\n",
       "        text-align: right;\n",
       "    }\n",
       "</style>\n",
       "<table border=\"1\" class=\"dataframe\">\n",
       "  <thead>\n",
       "    <tr style=\"text-align: right;\">\n",
       "      <th></th>\n",
       "      <th>a</th>\n",
       "      <th>b</th>\n",
       "      <th>c</th>\n",
       "      <th>d</th>\n",
       "    </tr>\n",
       "  </thead>\n",
       "  <tbody>\n",
       "    <tr>\n",
       "      <th>a</th>\n",
       "      <td>2.0</td>\n",
       "      <td>NaN</td>\n",
       "      <td>NaN</td>\n",
       "      <td>NaN</td>\n",
       "    </tr>\n",
       "    <tr>\n",
       "      <th>b</th>\n",
       "      <td>NaN</td>\n",
       "      <td>2.0</td>\n",
       "      <td>NaN</td>\n",
       "      <td>NaN</td>\n",
       "    </tr>\n",
       "    <tr>\n",
       "      <th>c</th>\n",
       "      <td>NaN</td>\n",
       "      <td>NaN</td>\n",
       "      <td>2.0</td>\n",
       "      <td>NaN</td>\n",
       "    </tr>\n",
       "    <tr>\n",
       "      <th>d</th>\n",
       "      <td>NaN</td>\n",
       "      <td>NaN</td>\n",
       "      <td>NaN</td>\n",
       "      <td>2.0</td>\n",
       "    </tr>\n",
       "    <tr>\n",
       "      <th>e</th>\n",
       "      <td>NaN</td>\n",
       "      <td>NaN</td>\n",
       "      <td>NaN</td>\n",
       "      <td>NaN</td>\n",
       "    </tr>\n",
       "    <tr>\n",
       "      <th>f</th>\n",
       "      <td>NaN</td>\n",
       "      <td>NaN</td>\n",
       "      <td>NaN</td>\n",
       "      <td>NaN</td>\n",
       "    </tr>\n",
       "  </tbody>\n",
       "</table>\n",
       "</div>"
      ],
      "text/plain": [
       "     a    b    c    d\n",
       "a  2.0  NaN  NaN  NaN\n",
       "b  NaN  2.0  NaN  NaN\n",
       "c  NaN  NaN  2.0  NaN\n",
       "d  NaN  NaN  NaN  2.0\n",
       "e  NaN  NaN  NaN  NaN\n",
       "f  NaN  NaN  NaN  NaN"
      ]
     },
     "metadata": {},
     "output_type": "display_data"
    }
   ],
   "source": [
    "from pandas import DataFrame\n",
    "df = DataFrame(\n",
    "    {'a':{'a':2}, 'b':{'b':2}, 'c':{'c':2}, 'd':{'d':2}, 'e':{'e':2}, 'f':{'f':2}}\n",
    ")\n",
    "display(df)\n",
    "df.drop([df.columns[-2], df.columns[-1]], axis=1, inplace=True)\n",
    "display(df)"
   ]
  }
 ],
 "metadata": {
  "kernelspec": {
   "display_name": "Python 3 (ipykernel)",
   "language": "python",
   "name": "python3"
  },
  "language_info": {
   "codemirror_mode": {
    "name": "ipython",
    "version": 3
   },
   "file_extension": ".py",
   "mimetype": "text/x-python",
   "name": "python",
   "nbconvert_exporter": "python",
   "pygments_lexer": "ipython3",
   "version": "3.9.12"
  }
 },
 "nbformat": 4,
 "nbformat_minor": 5
}
