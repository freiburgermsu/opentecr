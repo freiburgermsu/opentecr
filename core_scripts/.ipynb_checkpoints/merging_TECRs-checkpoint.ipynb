{
 "cells": [
  {
   "cell_type": "markdown",
   "id": "e1474bb9-2fe7-494c-a68b-b17c5ed6f63a",
   "metadata": {},
   "source": [
    "# Merge the TECR versions"
   ]
  },
  {
   "cell_type": "code",
   "execution_count": null,
   "id": "1451fe6e-bb84-4639-a58a-034e3b7c45ce",
   "metadata": {
    "tags": []
   },
   "outputs": [
    {
     "name": "stdout",
     "output_type": "stream",
     "text": [
      "noor\n",
      "==============================\n",
      "\n",
      "enzymes in the master file:  425\n",
      "enzymes in the new file:  431\n",
      "\n",
      "Extra enzymes in the master file, versus new file:  61\n",
      "\n",
      "Missing enzymes in the master file, versus new file:  67\n",
      "==============================\n",
      "\n",
      "references in the master file:  911\n",
      "references in the new file:  919\n",
      "\n",
      "Extra references in the master file, versus new file:  96\n",
      "\n",
      "Missing references in the master file, versus new file:  104\n"
     ]
    }
   ],
   "source": [
    "%run merging_datasets.py\n",
    "\n",
    "# merging the noor scraping\n",
    "mrgpkg = merge_TECRs('TECRDB/amalgamated_TECRDB_scrape.csv', True)\n",
    "%time master_merge = mrgpkg.merge('TECRDB_noor.csv', 'enzyme_name', 'reference', 'noor_curation.txt', None)\n",
    "%time master_merge = mrgpkg.merge('TECRDB_du.xlsx', 'Reaction', 'Reference_id', 'du_curation.txt', 'Table S1. TECRDB Keqs')"
   ]
  },
  {
   "cell_type": "code",
   "execution_count": null,
   "id": "acd0022c-0cd7-45eb-b8b6-2f15c1a3b101",
   "metadata": {},
   "outputs": [],
   "source": []
  },
  {
   "cell_type": "code",
   "execution_count": 2,
   "id": "cc3e0d6c-10b8-41fe-ae0c-d005f7cead36",
   "metadata": {},
   "outputs": [
    {
     "name": "stdout",
     "output_type": "stream",
     "text": [
      "['1', '2', '3', '4']\n"
     ]
    }
   ],
   "source": [
    "print(list(map(str,[1,2,3,4])))"
   ]
  }
 ],
 "metadata": {
  "kernelspec": {
   "display_name": "Python 3 (ipykernel)",
   "language": "python",
   "name": "python3"
  },
  "language_info": {
   "codemirror_mode": {
    "name": "ipython",
    "version": 3
   },
   "file_extension": ".py",
   "mimetype": "text/x-python",
   "name": "python",
   "nbconvert_exporter": "python",
   "pygments_lexer": "ipython3",
   "version": "3.9.12"
  }
 },
 "nbformat": 4,
 "nbformat_minor": 5
}
