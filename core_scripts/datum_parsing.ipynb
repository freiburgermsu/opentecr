{
 "cells": [
  {
   "cell_type": "code",
   "execution_count": null,
   "id": "0fd890cc-e71e-42bf-ac20-fbbbff7e1f88",
   "metadata": {},
   "outputs": [],
   "source": []
  },
  {
   "cell_type": "code",
   "execution_count": null,
   "id": "362c9add-a359-4990-b501-ce1929be1bfd",
   "metadata": {},
   "outputs": [],
   "source": []
  },
  {
   "cell_type": "code",
   "execution_count": null,
   "id": "f72def63-b251-4e83-acdd-ecf8a6ff0408",
   "metadata": {},
   "outputs": [],
   "source": []
  },
  {
   "cell_type": "code",
   "execution_count": 3,
   "id": "42f0c0d0-053f-44b3-ab0a-d2f0791d6eed",
   "metadata": {},
   "outputs": [
    {
     "name": "stdout",
     "output_type": "stream",
     "text": [
      "a\n",
      "asdf & asdf\n",
      "asdf & asdf\n"
     ]
    }
   ],
   "source": [
    "x = 'asdf & asdf'\n",
    "x = x.split('+')[0]\n",
    "print(x[0])\n",
    "for i in x.split('&'):\n",
    "    print(x)"
   ]
  }
 ],
 "metadata": {
  "kernelspec": {
   "display_name": "Python 3 (ipykernel)",
   "language": "python",
   "name": "python3"
  },
  "language_info": {
   "codemirror_mode": {
    "name": "ipython",
    "version": 3
   },
   "file_extension": ".py",
   "mimetype": "text/x-python",
   "name": "python",
   "nbconvert_exporter": "python",
   "pygments_lexer": "ipython3",
   "version": "3.9.12"
  }
 },
 "nbformat": 4,
 "nbformat_minor": 5
}
